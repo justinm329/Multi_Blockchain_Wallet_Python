{
 "cells": [
  {
   "cell_type": "code",
   "execution_count": 1,
   "id": "8965d87e-5105-4a1d-9d31-e0dcc3648c6d",
   "metadata": {},
   "outputs": [],
   "source": [
    "# Import dependencies\n",
    "import subprocess\n",
    "import json\n",
    "from dotenv import load_dotenv\n",
    "import os"
   ]
  },
  {
   "cell_type": "code",
   "execution_count": 2,
   "id": "ea208b81-3fff-4137-8618-e0f46ca1dfc4",
   "metadata": {},
   "outputs": [],
   "source": [
    "# Load and set environment variables\n",
    "load_dotenv(\"mnemonic.env\")\n",
    "mnemonic=os.getenv(\"phrase\")"
   ]
  },
  {
   "cell_type": "code",
   "execution_count": 3,
   "id": "ea4198b7-7c34-4ec4-a3a2-c01a33b6ebea",
   "metadata": {},
   "outputs": [
    {
     "data": {
      "text/plain": [
       "str"
      ]
     },
     "execution_count": 3,
     "metadata": {},
     "output_type": "execute_result"
    }
   ],
   "source": [
    "type(mnemonic)"
   ]
  },
  {
   "cell_type": "code",
   "execution_count": 4,
   "id": "49036509-f6ff-4761-bb36-0eef92629999",
   "metadata": {},
   "outputs": [],
   "source": [
    "# Import constants.py and necessary functions from bit and web3\n",
    "# YOUR CODE HERE\n",
    "from web3 import Web3\n",
    "from bit import Key\n",
    "from constants import *"
   ]
  },
  {
   "cell_type": "code",
   "execution_count": 5,
   "id": "d1d8aa26-9586-4a75-9837-ce24dce40fa7",
   "metadata": {},
   "outputs": [
    {
     "ename": "SyntaxError",
     "evalue": "invalid syntax (<ipython-input-5-23698f0c3b06>, line 3)",
     "output_type": "error",
     "traceback": [
      "\u001b[1;36m  File \u001b[1;32m\"<ipython-input-5-23698f0c3b06>\"\u001b[1;36m, line \u001b[1;32m3\u001b[0m\n\u001b[1;33m    command = (hd-wallet-derive/hd-wallet-derive.php -g mnemonic)\u001b[0m\n\u001b[1;37m                                                               ^\u001b[0m\n\u001b[1;31mSyntaxError\u001b[0m\u001b[1;31m:\u001b[0m invalid syntax\n"
     ]
    }
   ],
   "source": []
  },
  {
   "cell_type": "code",
   "execution_count": 6,
   "id": "ada23521-4170-4595-809c-20fa7ec8603f",
   "metadata": {},
   "outputs": [],
   "source": [
    "# Import dependencies\n",
    "import subprocess\n",
    "import json\n",
    "import os\n",
    "\n",
    "from pprint import pprint # wacth out!\n",
    "from dotenv import load_dotenv\n",
    "\n",
    "# Load and set environment variables\n",
    "load_dotenv()\n",
    "mnemonic=os.getenv(\"mnemonic\")\n",
    "\n",
    "# Import constants.py and necessary functions from bit and web3\n",
    "from constants import BTC, ETH, BTCTEST\n",
    "\n",
    "from bit import PrivateKeyTestnet\n",
    "from bit.network import NetworkAPI\n",
    "\n",
    "from web3 import Web3, middleware, Account\n",
    "from web3.gas_strategies.time_based import medium_gas_price_strategy\n",
    "from web3.middleware import geth_poa_middleware\n",
    " \n",
    "# coonect to Web3\n",
    "w3 = Web3(Web3.HTTPProvider('http://localhost:8545'))\n",
    "\n",
    "# enable PoA middleware\n",
    "w3.middleware_onion.inject(geth_poa_middleware, layer=0)\n",
    "\n",
    "mnemonic = os.getenv(\"phrase\")\n",
    "\n",
    "# Create a function called `derive_wallets`\n",
    "def derive_wallets(coin=BTC, mnemonic=mnemonic, depth=3):\n",
    "    command = f'php ./derive -g --mnemonic=\"{mnemonic}\" --cols=all --coin={coin} --numderive={depth} --format=json'\n",
    "    p = subprocess.Popen(command, stdout=subprocess.PIPE, shell=True)\n",
    "    output, err = p.communicate()\n",
    "    p_status = p.wait()\n",
    "    return json.loads(output)\n",
    "\n",
    "# Create a function called `priv_key_to_account` that converts privkey strings to account objects.\n",
    "def priv_key_to_account(coin, priv_key):\n",
    "    if coin == ETH:\n",
    "        return Account.privateKeyToAccount(priv_key)\n",
    "    if coin == BTCTEST:\n",
    "        return PrivateKeyTestnet(priv_key)\n",
    "\n",
    "# Create a function called `create_tx` that creates an unsigned transaction appropriate metadata.\n",
    "def create_tx(coin, account, to, amount):\n",
    "    if coin == ETH:\n",
    "        value = w3.toWei(amount, \"ether\")\n",
    "        gasEstimate = w3.eth.estimateGas({\"to\":to, \"from\":account, \"amount\":value})\n",
    "        return {\n",
    "            \"to\":to,\n",
    "            \"from\":account,\n",
    "            \"value\":value,\n",
    "            \"gas\":gasEstimate,\n",
    "            \"gasPrice\": w3.eth.generateGasPrice(),\n",
    "            \"nonce\":w3.eth.getTransactionCount(account),\n",
    "            \"chainID\":w3.eth.chain_id\n",
    "        }\n",
    "    if coin == BTCTEST:\n",
    "        return PrivateKeyTestnet.prepare_transaction(account.address, [(to, amount, BTC)])\n",
    "\n",
    "# Create a function called `send_tx` that calls `create_tx`, signs and sends the transaction.\n",
    "def send_tx(coin, account, to, amount):\n",
    "    if coin == ETH:\n",
    "        raw_tx = create_tx(coin, account.address, to, amount)\n",
    "        signed = account.signTransactopn(raw_tx)\n",
    "        return w3.eth.sendRawTransaction(signed.rawTransaction)\n",
    "    if coin == BTCTEST:\n",
    "        raw_tx = create_tx(coin, account, to, amount)\n",
    "        signed = account.sign_transaction(raw_tx)\n",
    "        return NetworkAPI.broadcast_tx_testnet(signed)\n",
    "    \n",
    "# Create a dictionary object called coins to store the output from `derive_wallets`.\n",
    "coins = {\n",
    "    ETH: derive_wallets(coin=ETH),\n",
    "    BTC: derive_wallets(coin=BTCTEST)\n",
    "}"
   ]
  },
  {
   "cell_type": "code",
   "execution_count": 7,
   "id": "4b870935-05ae-49da-bb5a-be0a123ea0b2",
   "metadata": {},
   "outputs": [
    {
     "data": {
      "text/plain": [
       "{'eth': [{'path': \"m/44'/60'/0'/0/0\",\n",
       "   'address': '0xB33cd62caE1959255e83144900453FB3b73910F2',\n",
       "   'xprv': 'xprvA3VA16B7aHGjVD8F23viNtvZmg9qcv5B9GvW5k2oJ687Nso673zEJqdrNSEQPAPzArgdLShUj28nWKVX3yB3qL5mVrCD5xdnZu3xre5RYku',\n",
       "   'xpub': 'xpub6GUWQbi1Qeq2hhCi85Tik2sJKhzL2No2WVr6t8SQrRf6Fg8EebJUrdxLDirCQLsNAv6rVpeWdPYkqL9i4hA8pM7LRuTVp5jmoV6UhHoD4Sa',\n",
       "   'privkey': '0x7ffbc915547e273aa371ffcbc9a606c8b00e518bb03fbe5fa998b46bf97e43c6',\n",
       "   'pubkey': '0350f14cf14cc406390d745442411b17ff42b21673c3cb22ecbf2e7ebfa4603dfa',\n",
       "   'pubkeyhash': '8716e16ba5de4d9c98b69dd80835cb26616f5c11',\n",
       "   'index': 0},\n",
       "  {'path': \"m/44'/60'/0'/0/1\",\n",
       "   'address': '0x0a1ddeaDa85bADeD5A7561273D4C3b63D2D6F198',\n",
       "   'xprv': 'xprvA3VA16B7aHGjZHKnCkDAj5fxqWSLJkb63EqNahL5mhLZ32ijUGoWCT9j6pjDuf2YnPLjG6sLdusgtjfbHZiRgzfFUXtwECmJcHkuBThheKa',\n",
       "   'xpub': 'xpub6GUWQbi1Qeq2mmQFJmkB6DchPYGpiDJwQTkyP5jhL2sXuq3t1p7kkFUCx6JaBpeYHkJaDvkuwqD8EdghQA4J3D9ndM7vrGUriPeJWeHn2p9',\n",
       "   'privkey': '0x093f843e542a63afb8ff875a2e0ce4f48551878a4f52d4d83abb06f299964c0a',\n",
       "   'pubkey': '0250f649db598040a0025522250437c01ade14d193bb6924299520a181cefbf1e1',\n",
       "   'pubkeyhash': '5fe9f0b6667d04265588212db26389e8024643bc',\n",
       "   'index': 1},\n",
       "  {'path': \"m/44'/60'/0'/0/2\",\n",
       "   'address': '0x1c69ba7aF4569c09DDCcB07BAB75a55ede2DfA61',\n",
       "   'xprv': 'xprvA3VA16B7aHGjbPhXFCvJw7nRXqo7gkVfHkda3dvCZYxfe2j7xTAkrHoNWJEFEgNUkttHRDoFZpPmjPkAkDRpRBu1t3sDSkKopGYvz9dxSg1',\n",
       "   'xpub': 'xpub6GUWQbi1Qeq2osmzMETKJFjA5sdc6DDWeyZAr2Kp7tVeWq4GVzV1Q67rMZfj8hnE68APXxT6NgcRQC36WCitjCB1nsmbYziPyuJHqxhP2oB',\n",
       "   'privkey': '0x8e5f94ba1d3c77abbcaeecb40f2b89adaf0d4a3b86762608439da61eb4b0113a',\n",
       "   'pubkey': '02c4387808740178742e44883b5e636c8513362050ff0e194551610eddba994830',\n",
       "   'pubkeyhash': '0a9f5ac4afa82f839c1f418ed58e13f1dcae8924',\n",
       "   'index': 2}],\n",
       " 'btc': [{'path': \"m/44'/1'/0'/0/0\",\n",
       "   'address': 'moYfhgMbhtpUagb2ekxmGeTXZDuCoK1ioc',\n",
       "   'xprv': 'tprv8kqBvyDLBfWfVDZJBWMxeC5AdqZkpBwHm3bzFxukNftaDFV3YKh2pqvavBSRVNBeMLp8kMouttRXohy4PBb38utturzt61bvLnb1LKxnX9o',\n",
       "   'xpub': 'tpubDHXE5PFaL3CLNgb65A2Z3bjHCs5gyX8CLMCmYUx3nwgy3jjpAiWd1LYT6JkKeqYHXt6EtufKWM1faXM4pWV13Yt4iaohKHS6fXjKqCw2PVd',\n",
       "   'privkey': 'cQdNbbpirqeUga2ks5NpdqjP2pqNaGN6sjxa2M5FH3zB3E6xy5ru',\n",
       "   'pubkey': '028a93d6a9b931e1dae44e98a54d871c57a7d9a429a16d6f0bb7e1c7fd4947c243',\n",
       "   'pubkeyhash': '5813fcc1de069418b5197ed3727aa8b60a8d995a',\n",
       "   'index': 0},\n",
       "  {'path': \"m/44'/1'/0'/0/1\",\n",
       "   'address': 'mqJZXDBj452u7nRCn3smvi6pTZhh1CWLj9',\n",
       "   'xprv': 'tprv8kqBvyDLBfWfY37HnpLnA6NaVnkNZpP26AgxxexcbdSnf34yrevsiCQWr8FogDBT2u3i59uT9LytYskVX5vpVanbk7yLmeuQAMMZ6vVmKVT',\n",
       "   'xpub': 'tpubDHXE5PFaL3CLRW95gU1NZW2h4pGJj9ZvfUHkFAzv1uFBVXKkV3kTth2P2HQr58Pkr62QoqYiGMFNxVcEzHXU4wkcMM2uZH8FMdXXJUazneA',\n",
       "   'privkey': 'cT4wCpkfWM5mPUC3k55zVkhcHtUfdAzxRC4mQ6ESJZqYWiWcbxKv',\n",
       "   'pubkey': '03c6ae69dfc6b4e0e87ca3f480208bb8bd35ba052ec0f6a8158472524434a8332e',\n",
       "   'pubkeyhash': '6b594197c3995d6816f18676bbda220ad336c0c0',\n",
       "   'index': 1},\n",
       "  {'path': \"m/44'/1'/0'/0/2\",\n",
       "   'address': 'mmnxbvARvHhXpdcf6CqfHQ2bfQNtvPfDBj',\n",
       "   'xprv': 'tprv8kqBvyDLBfWfYZea3jsZYwqdNrZymoojvfcKSM9oT8AYGDopGU8YCYo2HpqjRHyf18j6aLhWDg3RkqzMBUu3ARjsPgyNnWGYRboiUY9evZC',\n",
       "   'xpub': 'tpubDHXE5PFaL3CLS2gMwPY9xMVjwt5uw8zeVyD6isC6sPxw6i4atrx8P3QtTxhM9wXSmnzhCsu7iqCgSyRXtPrNe3JFwd79fhFGdYKqag2Gcc5',\n",
       "   'privkey': 'cSJGvJXiWTMjPWsfPpGcot4aR46BUxvkn2Tvk8pDM39Z4rEeG69s',\n",
       "   'pubkey': '030471c3919ccf60d248714dc965e6d8402c9c319f1859bb5ce577391f6d531c0f',\n",
       "   'pubkeyhash': '44d7aaccd513c5ed6433f04aab3b6f3cf631f023',\n",
       "   'index': 2}]}"
      ]
     },
     "execution_count": 7,
     "metadata": {},
     "output_type": "execute_result"
    }
   ],
   "source": [
    "coins"
   ]
  },
  {
   "cell_type": "code",
   "execution_count": null,
   "id": "5e5fa410-7cd5-4145-a5b8-f3c4470120a0",
   "metadata": {},
   "outputs": [],
   "source": []
  }
 ],
 "metadata": {
  "kernelspec": {
   "display_name": "Python 3",
   "language": "python",
   "name": "python3"
  },
  "language_info": {
   "codemirror_mode": {
    "name": "ipython",
    "version": 3
   },
   "file_extension": ".py",
   "mimetype": "text/x-python",
   "name": "python",
   "nbconvert_exporter": "python",
   "pygments_lexer": "ipython3",
   "version": "3.7.10"
  }
 },
 "nbformat": 4,
 "nbformat_minor": 5
}
